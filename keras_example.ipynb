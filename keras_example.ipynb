{
  "nbformat": 4,
  "nbformat_minor": 0,
  "metadata": {
    "colab": {
      "name": "Untitled59.ipynb",
      "provenance": []
    },
    "kernelspec": {
      "name": "python3",
      "display_name": "Python 3"
    },
    "language_info": {
      "name": "python"
    }
  },
  "cells": [
    {
      "cell_type": "code",
      "metadata": {
        "id": "qSjbdPr-3vpB"
      },
      "source": [
        "from tensorflow import keras\n",
        "from keras.models import Sequential\n",
        "from keras.layers import Dense, Dropout, Flatten, Conv2D, MaxPooling2D\n",
        "from keras.wrappers.scikit_learn import KerasClassifier\n",
        "\n"
      ],
      "execution_count": null,
      "outputs": []
    },
    {
      "cell_type": "code",
      "metadata": {
        "id": "0L4OTmeQ4K1J"
      },
      "source": [
        "# build function for the Keras' scikit-learn API\n",
        "def create_keras_model():\n",
        "    \"\"\"\n",
        "    This function compiles and returns a Keras model.\n",
        "    Should be passed to KerasClassifier in the Keras scikit-learn API.\n",
        "    \"\"\"\n",
        "\n",
        "    model = Sequential()\n",
        "    model.add(Conv2D(32, kernel_size=(3, 3), activation='relu', input_shape=(28, 28, 1)))\n",
        "    model.add(Conv2D(64, (3, 3), activation='relu'))\n",
        "    model.add(MaxPooling2D(pool_size=(2, 2)))\n",
        "    model.add(Dropout(0.25))\n",
        "    model.add(Flatten())\n",
        "    model.add(Dense(128, activation='relu'))\n",
        "    model.add(Dropout(0.5))\n",
        "    model.add(Dense(10, activation='softmax'))\n",
        "\n",
        "    model.compile(loss='categorical_crossentropy', optimizer='adadelta', metrics=['accuracy'])\n",
        "\n",
        "    return model"
      ],
      "execution_count": null,
      "outputs": []
    },
    {
      "cell_type": "code",
      "metadata": {
        "id": "CH7xKKsM4M1n"
      },
      "source": [
        "# create the classifier\n",
        "classifier = KerasClassifier(create_keras_model)"
      ],
      "execution_count": null,
      "outputs": []
    },
    {
      "cell_type": "code",
      "metadata": {
        "id": "4r3SuDtK4PXg"
      },
      "source": [
        "import numpy as np\n",
        "from keras.datasets import mnist\n",
        "\n",
        "# read training data\n",
        "(X_train, y_train), (X_test, y_test) = mnist.load_data()\n",
        "X_train = X_train.reshape(60000, 28, 28, 1).astype('float32') / 255\n",
        "X_test = X_test.reshape(10000, 28, 28, 1).astype('float32') / 255\n",
        "y_train = keras.utils.to_categorical(y_train, 10)\n",
        "y_test = keras.utils.to_categorical(y_test, 10)\n",
        "\n",
        "# assemble initial data\n",
        "n_initial = 1000\n",
        "initial_idx = np.random.choice(range(len(X_train)), size=n_initial, replace=False)\n",
        "X_initial = X_train[initial_idx]\n",
        "y_initial = y_train[initial_idx]\n",
        "\n",
        "# generate the pool\n",
        "# remove the initial data from the training dataset\n",
        "X_pool = np.delete(X_train, initial_idx, axis=0)[:5000]\n",
        "y_pool = np.delete(y_train, initial_idx, axis=0)[:5000]"
      ],
      "execution_count": null,
      "outputs": []
    },
    {
      "cell_type": "code",
      "metadata": {
        "colab": {
          "base_uri": "https://localhost:8080/"
        },
        "id": "U70PUirg47Mw",
        "outputId": "0bcc191a-f52b-4f1b-a1f0-f9b987a82e0c"
      },
      "source": [
        "pip install modAL"
      ],
      "execution_count": null,
      "outputs": [
        {
          "output_type": "stream",
          "text": [
            "Collecting modAL\n",
            "  Downloading modAL-0.4.1-py3-none-any.whl (27 kB)\n",
            "Requirement already satisfied: numpy>=1.13 in /usr/local/lib/python3.7/dist-packages (from modAL) (1.19.5)\n",
            "Requirement already satisfied: scipy>=0.18 in /usr/local/lib/python3.7/dist-packages (from modAL) (1.4.1)\n",
            "Requirement already satisfied: pandas>=1.1.0 in /usr/local/lib/python3.7/dist-packages (from modAL) (1.1.5)\n",
            "Requirement already satisfied: scikit-learn>=0.18 in /usr/local/lib/python3.7/dist-packages (from modAL) (0.22.2.post1)\n",
            "Requirement already satisfied: python-dateutil>=2.7.3 in /usr/local/lib/python3.7/dist-packages (from pandas>=1.1.0->modAL) (2.8.1)\n",
            "Requirement already satisfied: pytz>=2017.2 in /usr/local/lib/python3.7/dist-packages (from pandas>=1.1.0->modAL) (2018.9)\n",
            "Requirement already satisfied: six>=1.5 in /usr/local/lib/python3.7/dist-packages (from python-dateutil>=2.7.3->pandas>=1.1.0->modAL) (1.15.0)\n",
            "Requirement already satisfied: joblib>=0.11 in /usr/local/lib/python3.7/dist-packages (from scikit-learn>=0.18->modAL) (1.0.1)\n",
            "Installing collected packages: modAL\n",
            "Successfully installed modAL-0.4.1\n"
          ],
          "name": "stdout"
        }
      ]
    },
    {
      "cell_type": "code",
      "metadata": {
        "colab": {
          "base_uri": "https://localhost:8080/"
        },
        "id": "574U2UDb4RoH",
        "outputId": "fff58aab-6d64-452a-8a72-987f2eed25b9"
      },
      "source": [
        "from modAL.models import ActiveLearner\n",
        "\n",
        "# initialize ActiveLearner\n",
        "learner = ActiveLearner(\n",
        "    estimator=classifier,\n",
        "    X_training=X_initial, y_training=y_initial,\n",
        "    verbose=1\n",
        ")"
      ],
      "execution_count": null,
      "outputs": [
        {
          "output_type": "stream",
          "text": [
            "32/32 [==============================] - 4s 88ms/step - loss: 2.3030 - accuracy: 0.0815\n"
          ],
          "name": "stdout"
        }
      ]
    },
    {
      "cell_type": "code",
      "metadata": {
        "colab": {
          "base_uri": "https://localhost:8080/"
        },
        "id": "w2Wg3NO85HYJ",
        "outputId": "52a744da-5c2c-44ce-d23b-9f11ef478511"
      },
      "source": [
        "# the active learning loop\n",
        "n_queries = 10\n",
        "for idx in range(n_queries):\n",
        "    print('Query no. %d' % (idx + 1))\n",
        "    query_idx, query_instance = learner.query(X_pool, n_instances=100, verbose=0)\n",
        "    learner.teach(\n",
        "        X=X_pool[query_idx], y=y_pool[query_idx], only_new=True,\n",
        "        verbose=1\n",
        "    )\n",
        "    # remove queried instance from pool\n",
        "    X_pool = np.delete(X_pool, query_idx, axis=0)\n",
        "    y_pool = np.delete(y_pool, query_idx, axis=0)\n",
        "\n",
        "# the final accuracy score\n",
        "print(learner.score(X_test, y_test, verbose=1))"
      ],
      "execution_count": null,
      "outputs": [
        {
          "output_type": "stream",
          "text": [
            "Query no. 1\n",
            "4/4 [==============================] - 1s 64ms/step - loss: 2.3030 - accuracy: 0.1082\n",
            "Query no. 2\n",
            "4/4 [==============================] - 1s 68ms/step - loss: 2.3184 - accuracy: 0.0677\n",
            "Query no. 3\n",
            "4/4 [==============================] - 1s 68ms/step - loss: 2.2581 - accuracy: 0.1786\n",
            "Query no. 4\n",
            "4/4 [==============================] - 1s 65ms/step - loss: 2.3492 - accuracy: 0.0276\n",
            "Query no. 5\n",
            "4/4 [==============================] - 1s 66ms/step - loss: 2.3302 - accuracy: 0.0276\n",
            "Query no. 6\n",
            "4/4 [==============================] - 1s 65ms/step - loss: 2.3183 - accuracy: 0.0798\n",
            "Query no. 7\n",
            "4/4 [==============================] - 1s 69ms/step - loss: 2.2527 - accuracy: 0.0930\n",
            "Query no. 8\n",
            "4/4 [==============================] - 1s 68ms/step - loss: 2.3342 - accuracy: 0.0460\n",
            "Query no. 9\n",
            "4/4 [==============================] - 1s 67ms/step - loss: 2.2810 - accuracy: 0.1074\n",
            "Query no. 10\n",
            "4/4 [==============================] - 1s 69ms/step - loss: 2.3004 - accuracy: 0.0798\n",
            " 13/313 [>.............................] - ETA: 6s - loss: 2.3012 - accuracy: 0.0913"
          ],
          "name": "stdout"
        }
      ]
    },
    {
      "cell_type": "code",
      "metadata": {
        "id": "9QLp8zuu4tTP"
      },
      "source": [
        ""
      ],
      "execution_count": null,
      "outputs": []
    }
  ]
}